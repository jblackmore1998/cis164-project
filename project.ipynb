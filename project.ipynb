{
 "cells": [
  {
   "cell_type": "markdown",
   "id": "a586e7bb-5808-4825-b08d-26b47a6412fd",
   "metadata": {},
   "source": [
    "## **Library one: matplotlib**\n",
    "\n",
    "Using matplotlib to show the relationship of injuries to the types of activities."
   ]
  },
  {
   "cell_type": "code",
   "execution_count": 1,
   "id": "72d706c3-ea5d-44a4-ba83-c2e4097bd5af",
   "metadata": {},
   "outputs": [],
   "source": [
    "import pandas as pd\n",
    "\n",
    "shark_data = pd.read_csv(\"Shark_Incidents.csv\") # read in the csv file that contains the shark incident data\n",
    "\n",
    "shark_data.drop(['Comment', 'Confirmed Source', 'WFL Case #', 'County', 'Location'], axis=1, inplace=True) # dropping unnecessary columns\n",
    "shark_data.drop(shark_data.index[211:], inplace=True) # drops rows that contained notes from the data collector(s)\n",
    "\n",
    "shark_data.to_csv('modded_shark_incidents.csv', index=False) # after removing columns/rows that aren't needed\n",
    "                                                                # saved that data to a new csv file"
   ]
  },
  {
   "cell_type": "code",
   "execution_count": 2,
   "id": "0b6b99b0-05f4-4457-a350-36f5f0b52e17",
   "metadata": {},
   "outputs": [
    {
     "data": {
      "text/html": [
       "<div>\n",
       "<style scoped>\n",
       "    .dataframe tbody tr th:only-of-type {\n",
       "        vertical-align: middle;\n",
       "    }\n",
       "\n",
       "    .dataframe tbody tr th {\n",
       "        vertical-align: top;\n",
       "    }\n",
       "\n",
       "    .dataframe thead th {\n",
       "        text-align: right;\n",
       "    }\n",
       "</style>\n",
       "<table border=\"1\" class=\"dataframe\">\n",
       "  <thead>\n",
       "    <tr style=\"text-align: right;\">\n",
       "      <th></th>\n",
       "      <th>IncidentNum</th>\n",
       "      <th>Date</th>\n",
       "      <th>Time</th>\n",
       "      <th>Mode</th>\n",
       "      <th>Injury</th>\n",
       "      <th>Depth</th>\n",
       "      <th>Species</th>\n",
       "      <th>Longitude</th>\n",
       "      <th>Latitude</th>\n",
       "    </tr>\n",
       "  </thead>\n",
       "  <tbody>\n",
       "    <tr>\n",
       "      <th>0</th>\n",
       "      <td>1</td>\n",
       "      <td>10/08/1950</td>\n",
       "      <td>12:00</td>\n",
       "      <td>Swimming</td>\n",
       "      <td>major</td>\n",
       "      <td>surface</td>\n",
       "      <td>White</td>\n",
       "      <td>-117.1466667</td>\n",
       "      <td>32.588333</td>\n",
       "    </tr>\n",
       "    <tr>\n",
       "      <th>1</th>\n",
       "      <td>2</td>\n",
       "      <td>05/27/1952</td>\n",
       "      <td>14:00</td>\n",
       "      <td>Swimming</td>\n",
       "      <td>minor</td>\n",
       "      <td>surface</td>\n",
       "      <td>White</td>\n",
       "      <td>-117.2466667</td>\n",
       "      <td>32.588333</td>\n",
       "    </tr>\n",
       "    <tr>\n",
       "      <th>2</th>\n",
       "      <td>3</td>\n",
       "      <td>12/07/1952</td>\n",
       "      <td>14:00</td>\n",
       "      <td>Swimming</td>\n",
       "      <td>fatal</td>\n",
       "      <td>surface</td>\n",
       "      <td>White</td>\n",
       "      <td>-122.05</td>\n",
       "      <td>36.626667</td>\n",
       "    </tr>\n",
       "    <tr>\n",
       "      <th>3</th>\n",
       "      <td>4</td>\n",
       "      <td>02/06/1955</td>\n",
       "      <td>12:00</td>\n",
       "      <td>Freediving</td>\n",
       "      <td>minor</td>\n",
       "      <td>surface</td>\n",
       "      <td>White</td>\n",
       "      <td>-122.15</td>\n",
       "      <td>36.626667</td>\n",
       "    </tr>\n",
       "    <tr>\n",
       "      <th>4</th>\n",
       "      <td>5</td>\n",
       "      <td>08/14/1956</td>\n",
       "      <td>16:30</td>\n",
       "      <td>Swimming</td>\n",
       "      <td>major</td>\n",
       "      <td>surface</td>\n",
       "      <td>White</td>\n",
       "      <td>-120.6466667</td>\n",
       "      <td>35.138333</td>\n",
       "    </tr>\n",
       "  </tbody>\n",
       "</table>\n",
       "</div>"
      ],
      "text/plain": [
       "  IncidentNum        Date   Time        Mode Injury    Depth Species  \\\n",
       "0           1  10/08/1950  12:00    Swimming  major  surface   White   \n",
       "1           2  05/27/1952  14:00    Swimming  minor  surface   White   \n",
       "2           3  12/07/1952  14:00    Swimming  fatal  surface   White   \n",
       "3           4  02/06/1955  12:00  Freediving  minor  surface   White   \n",
       "4           5  08/14/1956  16:30    Swimming  major  surface   White   \n",
       "\n",
       "      Longitude   Latitude  \n",
       "0  -117.1466667  32.588333  \n",
       "1  -117.2466667  32.588333  \n",
       "2       -122.05  36.626667  \n",
       "3       -122.15  36.626667  \n",
       "4  -120.6466667  35.138333  "
      ]
     },
     "execution_count": 2,
     "metadata": {},
     "output_type": "execute_result"
    }
   ],
   "source": [
    "useful_shark = pd.read_csv('modded_shark_incidents.csv') # read in the new and useful csv\n",
    "useful_shark.head()"
   ]
  },
  {
   "cell_type": "code",
   "execution_count": 3,
   "id": "8ae15a10-9f00-457f-a3ba-191f2bd80f75",
   "metadata": {},
   "outputs": [],
   "source": [
    "mode = []\n",
    "for i in useful_shark[\"Mode\"]:\n",
    "    mode.append(i)\n",
    "\n",
    "injury_activities = ['Swimming', 'Free Diving', 'Scuba Diving', 'Hookah Diving', 'Surfing/Boarding', \\\n",
    "                     'Paddleboarding', 'Kayaking/Canoeing', 'Walking'] #x-axis\n",
    "injury_activities_counts = [] #y-axis\n",
    "\n",
    "swimming_count = mode.count(\"Swimming\")\n",
    "injury_activities_counts.append(swimming_count)\n",
    "\n",
    "freediving_count = mode.count(\"Freediving\")\n",
    "injury_activities_counts.append(freediving_count)\n",
    "\n",
    "scuba_diving_count = mode.count(\"Scuba Diving\")\n",
    "injury_activities_counts.append(scuba_diving_count)\n",
    "\n",
    "hookah_diving_count = mode.count(\"Hookah Diving\")\n",
    "injury_activities_counts.append(hookah_diving_count)\n",
    "\n",
    "surfing_boarding_count = mode.count(\"Surfing / Boarding\")\n",
    "injury_activities_counts.append(surfing_boarding_count)\n",
    "\n",
    "paddleboarding_count = mode.count(\"Paddleboarding\")\n",
    "injury_activities_counts.append(paddleboarding_count)\n",
    "\n",
    "kayaking_canoeing_count = mode.count(\"Kayaking / Canoeing\")\n",
    "injury_activities_counts.append(kayaking_canoeing_count)\n",
    "\n",
    "walking_count = mode.count(\"Walking in shallow\")\n",
    "injury_activities_counts.append(walking_count)"
   ]
  },
  {
   "cell_type": "code",
   "execution_count": 169,
   "id": "9cfd40fd-de3f-424e-a9c0-ea5029d3a49e",
   "metadata": {},
   "outputs": [
    {
     "data": {
      "image/png": "[encoded data removed]",
      "text/plain": [
       "<Figure size 640x480 with 1 Axes>"
      ]
     },
     "metadata": {},
     "output_type": "display_data"
    }
   ],
   "source": [
    "import matplotlib.pyplot as plt\n",
    "%matplotlib inline \n",
    "import numpy as np\n",
    "\n",
    "plt.bar(injury_activities, injury_activities_counts, color = (1.0, 0.647, 0.5))\n",
    "plt.title(\"Injury Activities\")\n",
    "plt.xlabel(\"Activity\")\n",
    "plt.xticks(rotation = 45)\n",
    "plt.ylabel(\"Injuries\")\n",
    "plt.show()"
   ]
  },
  {
   "cell_type": "markdown",
   "id": "396f045c-1d0b-4f47-83ce-bb815fda5fd3",
   "metadata": {},
   "source": [
    "## **Library 2 - pandas**\n",
    "\n",
    "Using pandas to calculate mean, min, and max values."
   ]
  },
  {
   "cell_type": "code",
   "execution_count": 5,
   "id": "fd165618-030e-491a-9d05-82eecf843d7e",
   "metadata": {},
   "outputs": [
    {
     "name": "stdout",
     "output_type": "stream",
     "text": [
      "The mean depth of shark attacks is 25.23 feet\n",
      "the minimum depth of a shark attack was 5.0 feet\n",
      "the maximum depth of a shark attack was 72.0 feet\n"
     ]
    }
   ],
   "source": [
    "import pandas as pd\n",
    "\n",
    "df_sharks = pd.read_csv('modded_shark_incidents.csv')\n",
    "df_sharks['Depth'] = pd.to_numeric(df_sharks['Depth'], errors='coerce') #converts to numeric, if not numeric\n",
    "                                                                        #converts to NaN\n",
    "df_sharks = df_sharks[df_sharks['Depth'].notna()] #uses all values not NaN\n",
    "\n",
    "mean_depth = df_sharks['Depth'].mean().round(2)\n",
    "min_depth = df_sharks['Depth'].min()\n",
    "max_depth = df_sharks['Depth'].max()\n",
    "\n",
    "print(\"The mean depth of shark attacks is\", mean_depth, \"feet\")\n",
    "print(\"the minimum depth of a shark attack was\", min_depth, \"feet\")\n",
    "print(\"the maximum depth of a shark attack was\", max_depth, \"feet\")"
   ]
  },
  {
   "cell_type": "markdown",
   "id": "b4d2d804-f236-486b-93ee-3097ba095b21",
   "metadata": {},
   "source": [
    "## **Library 3: folium**\n",
    "\n",
    "Using folium to create an interactive map of shark attack locations"
   ]
  },
  {
   "cell_type": "code",
   "execution_count": 6,
   "id": "e3b0cb90-3bd8-4300-87fa-972e5cebac1e",
   "metadata": {},
   "outputs": [
    {
     "name": "stdout",
     "output_type": "stream",
     "text": [
      "Requirement already satisfied: folium in /opt/anaconda3/lib/python3.12/site-packages (0.19.5)\n",
      "Requirement already satisfied: branca>=0.6.0 in /opt/anaconda3/lib/python3.12/site-packages (from folium) (0.8.1)\n",
      "Requirement already satisfied: jinja2>=2.9 in /opt/anaconda3/lib/python3.12/site-packages (from folium) (3.1.4)\n",
      "Requirement already satisfied: numpy in /opt/anaconda3/lib/python3.12/site-packages (from folium) (1.26.4)\n",
      "Requirement already satisfied: requests in /opt/anaconda3/lib/python3.12/site-packages (from folium) (2.32.3)\n",
      "Requirement already satisfied: xyzservices in /opt/anaconda3/lib/python3.12/site-packages (from folium) (2022.9.0)\n",
      "Requirement already satisfied: MarkupSafe>=2.0 in /opt/anaconda3/lib/python3.12/site-packages (from jinja2>=2.9->folium) (2.1.3)\n",
      "Requirement already satisfied: charset-normalizer<4,>=2 in /opt/anaconda3/lib/python3.12/site-packages (from requests->folium) (3.3.2)\n",
      "Requirement already satisfied: idna<4,>=2.5 in /opt/anaconda3/lib/python3.12/site-packages (from requests->folium) (3.7)\n",
      "Requirement already satisfied: urllib3<3,>=1.21.1 in /opt/anaconda3/lib/python3.12/site-packages (from requests->folium) (2.2.3)\n",
      "Requirement already satisfied: certifi>=2017.4.17 in /opt/anaconda3/lib/python3.12/site-packages (from requests->folium) (2025.1.31)\n"
     ]
    }
   ],
   "source": [
    "!pip install folium"
   ]
  },
  {
   "cell_type": "code",
   "execution_count": 7,
   "id": "464f99a0-6153-44ab-b996-2e4f1c8b2d25",
   "metadata": {},
   "outputs": [],
   "source": [
    "import folium\n",
    "import os\n",
    "import pandas as pd\n",
    "import bs4\n",
    "import requests\n",
    "import json"
   ]
  },
  {
   "cell_type": "code",
   "execution_count": 8,
   "id": "000a63e8-6fe2-4c8b-ae98-b9ab517abe7e",
   "metadata": {},
   "outputs": [],
   "source": [
    "shark_coords = useful_shark.copy()\n",
    "shark_coords['Latitude'] = pd.to_numeric(shark_coords['Latitude'], errors='coerce')\n",
    "shark_coords = shark_coords[shark_coords['Latitude'].notna()]\n",
    "shark_coords['Longitude'] = pd.to_numeric(shark_coords['Longitude'], errors='coerce')\n",
    "shark_coords = shark_coords[shark_coords['Longitude'].notna()]"
   ]
  },
  {
   "cell_type": "code",
   "execution_count": 9,
   "id": "610bb206-ab4b-4649-a4be-e1b3dc1157fb",
   "metadata": {},
   "outputs": [],
   "source": [
    "shark_incidents = folium.Map(location=[36.7783, -119.4179], zoom_start=6)\n",
    "\n",
    "for _, row in shark_coords.iterrows():\n",
    "    folium.CircleMarker(\n",
    "        location=[row['Latitude'], row['Longitude']],\n",
    "        radius=1.5,\n",
    "        color='red',\n",
    "        fill=True,\n",
    "        fill_color='red',\n",
    "        fill_opacity=1\n",
    "    ).add_to(shark_incidents)\n",
    "\n",
    "shark_incidents.save('shark_incident.html')"
   ]
  },
  {
   "cell_type": "markdown",
   "id": "7a3687ac-a0d4-47fb-8a23-03e3f0f2639c",
   "metadata": {
    "editable": true,
    "slideshow": {
     "slide_type": ""
    },
    "tags": []
   },
   "source": [
    "## **Library 4: altair**\n",
    "\n",
    "Using altair to show how often attacks happen at certain times compared to the mean number of attacks.\n",
    "\n",
    "[link](https://altair-viz.github.io/gallery/bar_chart_with_mean_line.html) to altair github page"
   ]
  },
  {
   "cell_type": "code",
   "execution_count": 175,
   "id": "aab78cac-baca-4aa6-87a0-33add2a7c9cd",
   "metadata": {},
   "outputs": [
    {
     "data": {
      "text/html": [
       "\n",
       "<style>\n",
       "  #altair-viz-afbf67c61a16466faa7ed1057af905a6.vega-embed {\n",
       "    width: 100%;\n",
       "    display: flex;\n",
       "  }\n",
       "\n",
       "  #altair-viz-afbf67c61a16466faa7ed1057af905a6.vega-embed details,\n",
       "  #altair-viz-afbf67c61a16466faa7ed1057af905a6.vega-embed details summary {\n",
       "    position: relative;\n",
       "  }\n",
       "</style>\n",
       "<div id=\"altair-viz-afbf67c61a16466faa7ed1057af905a6\"></div>\n",
       "<script type=\"text/javascript\">\n",
       "  var VEGA_DEBUG = (typeof VEGA_DEBUG == \"undefined\") ? {} : VEGA_DEBUG;\n",
       "  (function(spec, embedOpt){\n",
       "    let outputDiv = document.currentScript.previousElementSibling;\n",
       "    if (outputDiv.id !== \"altair-viz-afbf67c61a16466faa7ed1057af905a6\") {\n",
       "      outputDiv = document.getElementById(\"altair-viz-afbf67c61a16466faa7ed1057af905a6\");\n",
       "    }\n",
       "    const paths = {\n",
       "      \"vega\": \"https://cdn.jsdelivr.net/npm/vega@5?noext\",\n",
       "      \"vega-lib\": \"https://cdn.jsdelivr.net/npm/vega-lib?noext\",\n",
       "      \"vega-lite\": \"https://cdn.jsdelivr.net/npm/vega-lite@5.8.0?noext\",\n",
       "      \"vega-embed\": \"https://cdn.jsdelivr.net/npm/vega-embed@6?noext\",\n",
       "    };\n",
       "\n",
       "    function maybeLoadScript(lib, version) {\n",
       "      var key = `${lib.replace(\"-\", \"\")}_version`;\n",
       "      return (VEGA_DEBUG[key] == version) ?\n",
       "        Promise.resolve(paths[lib]) :\n",
       "        new Promise(function(resolve, reject) {\n",
       "          var s = document.createElement('script');\n",
       "          document.getElementsByTagName(\"head\")[0].appendChild(s);\n",
       "          s.async = true;\n",
       "          s.onload = () => {\n",
       "            VEGA_DEBUG[key] = version;\n",
       "            return resolve(paths[lib]);\n",
       "          };\n",
       "          s.onerror = () => reject(`Error loading script: ${paths[lib]}`);\n",
       "          s.src = paths[lib];\n",
       "        });\n",
       "    }\n",
       "\n",
       "    function showError(err) {\n",
       "      outputDiv.innerHTML = `<div class=\"error\" style=\"color:red;\">${err}</div>`;\n",
       "      throw err;\n",
       "    }\n",
       "\n",
       "    function displayChart(vegaEmbed) {\n",
       "      vegaEmbed(outputDiv, spec, embedOpt)\n",
       "        .catch(err => showError(`Javascript Error: ${err.message}<br>This usually means there's a typo in your chart specification. See the javascript console for the full traceback.`));\n",
       "    }\n",
       "\n",
       "    if(typeof define === \"function\" && define.amd) {\n",
       "      requirejs.config({paths});\n",
       "      require([\"vega-embed\"], displayChart, err => showError(`Error loading script: ${err.message}`));\n",
       "    } else {\n",
       "      maybeLoadScript(\"vega\", \"5\")\n",
       "        .then(() => maybeLoadScript(\"vega-lite\", \"5.8.0\"))\n",
       "        .then(() => maybeLoadScript(\"vega-embed\", \"6\"))\n",
       "        .catch(showError)\n",
       "        .then(() => displayChart(vegaEmbed));\n",
       "    }\n",
       "  })({\"config\": {\"view\": {\"continuousWidth\": 300, \"continuousHeight\": 300}}, \"layer\": [{\"mark\": {\"type\": \"bar\", \"color\": \"rgb(255,165,128)\"}, \"encoding\": {\"x\": {\"field\": \"Time\", \"type\": \"ordinal\"}, \"y\": {\"field\": \"Number of Attacks\", \"type\": \"quantitative\"}}}, {\"mark\": {\"type\": \"rule\", \"color\": \"black\"}, \"encoding\": {\"y\": {\"aggregate\": \"mean\", \"field\": \"Number of Attacks\", \"type\": \"quantitative\"}}}], \"data\": {\"name\": \"data-bedb5947a0b9549a240d1b5613eaaa6b\"}, \"width\": 900, \"$schema\": \"https://vega.github.io/schema/vega-lite/v5.8.0.json\", \"datasets\": {\"data-bedb5947a0b9549a240d1b5613eaaa6b\": [{\"Time\": \"10:00\", \"Number of Attacks\": 5}, {\"Time\": \"10:15\", \"Number of Attacks\": 3}, {\"Time\": \"10:30\", \"Number of Attacks\": 3}, {\"Time\": \"10:40\", \"Number of Attacks\": 1}, {\"Time\": \"10:45\", \"Number of Attacks\": 1}, {\"Time\": \"11:00\", \"Number of Attacks\": 18}, {\"Time\": \"11:10\", \"Number of Attacks\": 1}, {\"Time\": \"11:15\", \"Number of Attacks\": 3}, {\"Time\": \"11:20\", \"Number of Attacks\": 1}, {\"Time\": \"11:30\", \"Number of Attacks\": 5}, {\"Time\": \"12:00\", \"Number of Attacks\": 9}, {\"Time\": \"12:30\", \"Number of Attacks\": 1}, {\"Time\": \"12:40\", \"Number of Attacks\": 1}, {\"Time\": \"12:45\", \"Number of Attacks\": 2}, {\"Time\": \"13:00\", \"Number of Attacks\": 5}, {\"Time\": \"13:30\", \"Number of Attacks\": 9}, {\"Time\": \"13:35\", \"Number of Attacks\": 1}, {\"Time\": \"13:45\", \"Number of Attacks\": 1}, {\"Time\": \"14:00\", \"Number of Attacks\": 10}, {\"Time\": \"14:15\", \"Number of Attacks\": 1}, {\"Time\": \"14:30\", \"Number of Attacks\": 6}, {\"Time\": \"15:00\", \"Number of Attacks\": 6}, {\"Time\": \"15:15\", \"Number of Attacks\": 2}, {\"Time\": \"15:30\", \"Number of Attacks\": 3}, {\"Time\": \"16:00\", \"Number of Attacks\": 5}, {\"Time\": \"16:30\", \"Number of Attacks\": 6}, {\"Time\": \"16:45\", \"Number of Attacks\": 1}, {\"Time\": \"17:00\", \"Number of Attacks\": 7}, {\"Time\": \"17:30\", \"Number of Attacks\": 10}, {\"Time\": \"17:42\", \"Number of Attacks\": 1}, {\"Time\": \"18:00\", \"Number of Attacks\": 1}, {\"Time\": \"18:30\", \"Number of Attacks\": 3}, {\"Time\": \"18:45\", \"Number of Attacks\": 1}, {\"Time\": \"19:00\", \"Number of Attacks\": 1}, {\"Time\": \"19:30\", \"Number of Attacks\": 1}, {\"Time\": \"20:00\", \"Number of Attacks\": 1}, {\"Time\": \"20:15\", \"Number of Attacks\": 1}, {\"Time\": \"20:30\", \"Number of Attacks\": 1}, {\"Time\": \"22:30\", \"Number of Attacks\": 1}, {\"Time\": \"23:00\", \"Number of Attacks\": 2}, {\"Time\": \"6:45\", \"Number of Attacks\": 1}, {\"Time\": \"7:00\", \"Number of Attacks\": 5}, {\"Time\": \"7:15\", \"Number of Attacks\": 2}, {\"Time\": \"7:30\", \"Number of Attacks\": 8}, {\"Time\": \"8:00\", \"Number of Attacks\": 3}, {\"Time\": \"8:30\", \"Number of Attacks\": 6}, {\"Time\": \"8:45\", \"Number of Attacks\": 1}, {\"Time\": \"9:00\", \"Number of Attacks\": 12}, {\"Time\": \"9:15\", \"Number of Attacks\": 1}, {\"Time\": \"9:30\", \"Number of Attacks\": 4}, {\"Time\": \"9:45\", \"Number of Attacks\": 1}]}}, {\"mode\": \"vega-lite\"});\n",
       "</script>"
      ],
      "text/plain": [
       "alt.LayerChart(...)"
      ]
     },
     "execution_count": 175,
     "metadata": {},
     "output_type": "execute_result"
    }
   ],
   "source": [
    "import altair as alt\n",
    "import warnings\n",
    "warnings.filterwarnings(\"ignore\", category=FutureWarning)\n",
    "\n",
    "shark_data = useful_shark.copy()\n",
    "\n",
    "filtered_data = shark_data[~shark_data['Time'].isin(['Unknown', 'afternoon', 'early am'])] #filters out the three \n",
    "                                                                                            #unnecessary items\n",
    "attack_counts = filtered_data.groupby('Time').size().reset_index(name='Number of Attacks')\n",
    "\n",
    "bar = alt.Chart(attack_counts).mark_bar(color='rgb(255,165,128)').encode(\n",
    "    x='Time:O', #O is ordinal\n",
    "    y='Number of Attacks:Q' #Q is quantitative\n",
    ")\n",
    "\n",
    "rule = alt.Chart(attack_counts).mark_rule(color='black').encode(\n",
    "    y='mean(Number of Attacks):Q'\n",
    ")\n",
    "\n",
    "(bar + rule).properties(width=900) #displays bar graph and mean amount of attacks with a width of 900"
   ]
  },
  {
   "cell_type": "code",
   "execution_count": null,
   "id": "7d164fa3-2b5f-4b35-8832-9d46334cdfef",
   "metadata": {},
   "outputs": [],
   "source": []
  }
 ],
 "metadata": {
  "kernelspec": {
   "display_name": "Python [conda env:base] *",
   "language": "python",
   "name": "conda-base-py"
  },
  "language_info": {
   "codemirror_mode": {
    "name": "ipython",
    "version": 3
   },
   "file_extension": ".py",
   "mimetype": "text/x-python",
   "name": "python",
   "nbconvert_exporter": "python",
   "pygments_lexer": "ipython3",
   "version": "3.12.7"
  }
 },
 "nbformat": 4,
 "nbformat_minor": 5
}
