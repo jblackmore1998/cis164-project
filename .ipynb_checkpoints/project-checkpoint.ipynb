{
 "cells": [
  {
   "cell_type": "code",
   "execution_count": 4,
   "id": "72d706c3-ea5d-44a4-ba83-c2e4097bd5af",
   "metadata": {},
   "outputs": [],
   "source": [
    "import pandas as pd\n",
    "\n",
    "shark_data = pd.read_csv(\"Shark_Incidents.csv\") # read in the csv file that contains the shark incident data\n",
    "\n",
    "shark_data.drop(['Comment', 'Confirmed Source', 'WFL Case #', 'County', 'Location'], axis=1, inplace=True) # dropping unnecessary columns\n",
    "shark_data.drop(shark_data.index[211:], inplace=True) # drops rows that contained notes from the data collector(s)\n",
    "\n",
    "shark_data.to_csv('modded_shark_incidents.csv', index=False) # after removing columns/rows that aren't needed\n",
    "                                                                # saved that data to a new csv file"
   ]
  },
  {
   "cell_type": "code",
   "execution_count": 9,
   "id": "0b6b99b0-05f4-4457-a350-36f5f0b52e17",
   "metadata": {},
   "outputs": [
    {
     "data": {
      "text/html": [
       "<div>\n",
       "<style scoped>\n",
       "    .dataframe tbody tr th:only-of-type {\n",
       "        vertical-align: middle;\n",
       "    }\n",
       "\n",
       "    .dataframe tbody tr th {\n",
       "        vertical-align: top;\n",
       "    }\n",
       "\n",
       "    .dataframe thead th {\n",
       "        text-align: right;\n",
       "    }\n",
       "</style>\n",
       "<table border=\"1\" class=\"dataframe\">\n",
       "  <thead>\n",
       "    <tr style=\"text-align: right;\">\n",
       "      <th></th>\n",
       "      <th>IncidentNum</th>\n",
       "      <th>Date</th>\n",
       "      <th>Time</th>\n",
       "      <th>Mode</th>\n",
       "      <th>Injury</th>\n",
       "      <th>Depth</th>\n",
       "      <th>Species</th>\n",
       "      <th>Longitude</th>\n",
       "      <th>Latitude</th>\n",
       "    </tr>\n",
       "  </thead>\n",
       "  <tbody>\n",
       "    <tr>\n",
       "      <th>0</th>\n",
       "      <td>1</td>\n",
       "      <td>10/08/1950</td>\n",
       "      <td>12:00</td>\n",
       "      <td>Swimming</td>\n",
       "      <td>major</td>\n",
       "      <td>surface</td>\n",
       "      <td>White</td>\n",
       "      <td>-117.1466667</td>\n",
       "      <td>32.588333</td>\n",
       "    </tr>\n",
       "    <tr>\n",
       "      <th>1</th>\n",
       "      <td>2</td>\n",
       "      <td>05/27/1952</td>\n",
       "      <td>14:00</td>\n",
       "      <td>Swimming</td>\n",
       "      <td>minor</td>\n",
       "      <td>surface</td>\n",
       "      <td>White</td>\n",
       "      <td>-117.2466667</td>\n",
       "      <td>32.588333</td>\n",
       "    </tr>\n",
       "    <tr>\n",
       "      <th>2</th>\n",
       "      <td>3</td>\n",
       "      <td>12/07/1952</td>\n",
       "      <td>14:00</td>\n",
       "      <td>Swimming</td>\n",
       "      <td>fatal</td>\n",
       "      <td>surface</td>\n",
       "      <td>White</td>\n",
       "      <td>-122.05</td>\n",
       "      <td>36.626667</td>\n",
       "    </tr>\n",
       "    <tr>\n",
       "      <th>3</th>\n",
       "      <td>4</td>\n",
       "      <td>02/06/1955</td>\n",
       "      <td>12:00</td>\n",
       "      <td>Freediving</td>\n",
       "      <td>minor</td>\n",
       "      <td>surface</td>\n",
       "      <td>White</td>\n",
       "      <td>-122.15</td>\n",
       "      <td>36.626667</td>\n",
       "    </tr>\n",
       "    <tr>\n",
       "      <th>4</th>\n",
       "      <td>5</td>\n",
       "      <td>08/14/1956</td>\n",
       "      <td>16:30</td>\n",
       "      <td>Swimming</td>\n",
       "      <td>major</td>\n",
       "      <td>surface</td>\n",
       "      <td>White</td>\n",
       "      <td>-120.6466667</td>\n",
       "      <td>35.138333</td>\n",
       "    </tr>\n",
       "  </tbody>\n",
       "</table>\n",
       "</div>"
      ],
      "text/plain": [
       "  IncidentNum        Date   Time        Mode Injury    Depth Species  \\\n",
       "0           1  10/08/1950  12:00    Swimming  major  surface   White   \n",
       "1           2  05/27/1952  14:00    Swimming  minor  surface   White   \n",
       "2           3  12/07/1952  14:00    Swimming  fatal  surface   White   \n",
       "3           4  02/06/1955  12:00  Freediving  minor  surface   White   \n",
       "4           5  08/14/1956  16:30    Swimming  major  surface   White   \n",
       "\n",
       "      Longitude   Latitude  \n",
       "0  -117.1466667  32.588333  \n",
       "1  -117.2466667  32.588333  \n",
       "2       -122.05  36.626667  \n",
       "3       -122.15  36.626667  \n",
       "4  -120.6466667  35.138333  "
      ]
     },
     "execution_count": 9,
     "metadata": {},
     "output_type": "execute_result"
    }
   ],
   "source": [
    "useful_shark = pd.read_csv('modded_shark_incidents.csv') # read in the new and useful csv\n",
    "useful_shark.head()"
   ]
  },
  {
   "cell_type": "code",
   "execution_count": null,
   "id": "e9221c79-88d3-47eb-97b7-28d888292f9c",
   "metadata": {},
   "outputs": [],
   "source": []
  },
  {
   "cell_type": "code",
   "execution_count": 103,
   "id": "8ae15a10-9f00-457f-a3ba-191f2bd80f75",
   "metadata": {},
   "outputs": [],
   "source": [
    "mode = []\n",
    "for i in useful_shark[\"Mode\"]:\n",
    "    mode.append(i)\n",
    "\n",
    "injury_activities = ['Swimming', 'Free Diving', 'Scuba Diving', 'Hookah Diving', 'Surfing/Boarding', \\\n",
    "                     'Paddleboarding', 'Kayaking/Canoeing', 'Walking'] #x-axis\n",
    "injury_activities_counts = [] #y-axis\n",
    "\n",
    "swimming_count = mode.count(\"Swimming\")\n",
    "injury_activities_counts.append(swimming_count)\n",
    "\n",
    "freediving_count = mode.count(\"Freediving\")\n",
    "injury_activities_counts.append(freediving_count)\n",
    "\n",
    "scuba_diving_count = mode.count(\"Scuba Diving\")\n",
    "injury_activities_counts.append(scuba_diving_count)\n",
    "\n",
    "hookah_diving_count = mode.count(\"Hookah Diving\")\n",
    "injury_activities_counts.append(hookah_diving_count)\n",
    "\n",
    "surfing_boarding_count = mode.count(\"Surfing / Boarding\")\n",
    "injury_activities_counts.append(surfing_boarding_count)\n",
    "\n",
    "paddleboarding_count = mode.count(\"Paddleboarding\")\n",
    "injury_activities_counts.append(paddleboarding_count)\n",
    "\n",
    "kayaking_canoeing_count = mode.count(\"Kayaking / Canoeing\")\n",
    "injury_activities_counts.append(kayaking_canoeing_count)\n",
    "\n",
    "walking_count = mode.count(\"Walking in shallow\")\n",
    "injury_activities_counts.append(walking_count)"
   ]
  },
  {
   "cell_type": "code",
   "execution_count": 105,
   "id": "9cfd40fd-de3f-424e-a9c0-ea5029d3a49e",
   "metadata": {},
   "outputs": [
    {
     "data": {
      "image/png": "[encoded data removed]",
      "text/plain": [
       "<Figure size 640x480 with 1 Axes>"
      ]
     },
     "metadata": {},
     "output_type": "display_data"
    }
   ],
   "source": [
    "import matplotlib.pyplot as plt\n",
    "%matplotlib inline \n",
    "import numpy as np\n",
    "\n",
    "plt.stem(injury_activities, injury_activities_counts)\n",
    "plt.title(\"Injury Activities\")\n",
    "plt.xlabel(\"Activity\")\n",
    "#plt.yticks()\n",
    "plt.ylabel(\"Injuries\")\n",
    "plt.show()"
   ]
  },
  {
   "cell_type": "code",
   "execution_count": null,
   "id": "fd165618-030e-491a-9d05-82eecf843d7e",
   "metadata": {},
   "outputs": [],
   "source": []
  }
 ],
 "metadata": {
  "kernelspec": {
   "display_name": "Python [conda env:base] *",
   "language": "python",
   "name": "conda-base-py"
  },
  "language_info": {
   "codemirror_mode": {
    "name": "ipython",
    "version": 3
   },
   "file_extension": ".py",
   "mimetype": "text/x-python",
   "name": "python",
   "nbconvert_exporter": "python",
   "pygments_lexer": "ipython3",
   "version": "3.12.7"
  }
 },
 "nbformat": 4,
 "nbformat_minor": 5
}
